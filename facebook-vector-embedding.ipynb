{
 "cells": [
  {
   "cell_type": "code",
   "execution_count": 1,
   "id": "8b16dc1b-7447-4907-9e79-3d26eb7d920e",
   "metadata": {},
   "outputs": [],
   "source": [
    "import torch\n",
    "import pandas as pd\n",
    "import time"
   ]
  },
  {
   "cell_type": "code",
   "execution_count": 2,
   "id": "8924d0b9-ec83-43e2-aef8-4d8181e3a3df",
   "metadata": {},
   "outputs": [],
   "source": [
    "# Define um diretório de cache\n",
    "cache_dir = 'cache_dir'\n",
    "\n",
    "# Inicia a contagem de tempo\n",
    "start_time = time.time()"
   ]
  },
  {
   "cell_type": "code",
   "execution_count": 3,
   "id": "a116c976-b538-4769-b3b1-77de998f5799",
   "metadata": {},
   "outputs": [
    {
     "name": "stdout",
     "output_type": "stream",
     "text": [
      "GPUs available: 1\n",
      "GPU 0: NVIDIA RTX A4000\n"
     ]
    }
   ],
   "source": [
    "# Verifica se há uma GPU disponível e define o dispositivo (GPU ou CPU)\n",
    "device = torch.device('cuda') if torch.cuda.is_available() else 'cpu'\n",
    "num_gpus = torch.cuda.device_count()\n",
    "\n",
    "if num_gpus > 0:\n",
    "    print(f\"GPUs available: {num_gpus}\")\n",
    "    for i in range(num_gpus):\n",
    "        gpu_name = torch.cuda.get_device_name(i)\n",
    "        print(f\"GPU {i}: {gpu_name}\")\n",
    "else:\n",
    "    print(\"There is no GPU available. Using CPU\")"
   ]
  },
  {
   "cell_type": "code",
   "execution_count": 4,
   "id": "90cd03f3-6235-4546-9232-8f3ba5348e00",
   "metadata": {},
   "outputs": [],
   "source": [
    "# Lê um arquivo CSV usando pandas e adiciona uma coluna 'id' com índices\n",
    "# Link para download do arquvio .csv: https://www.kaggle.com/code/sela001/facebook-google-store-reviews/input\n",
    "pdf = pd.read_csv(f\"data/facebook_reviews.csv\")\n",
    "pdf['id'] = pdf.index\n",
    "\n",
    "# Cria um subconjunto do DataFrame pdf com as primeiras 1.000 linhas\n",
    "pdf_subset = pdf.head(1000)"
   ]
  },
  {
   "cell_type": "code",
   "execution_count": 5,
   "id": "02cef946-94ff-47ac-8586-25d2b1591d41",
   "metadata": {},
   "outputs": [],
   "source": [
    "# Importa a classe SentenceTransformer do pacote sentence_transformers\n",
    "from sentence_transformers import SentenceTransformer\n",
    "\n",
    "# Inicializa um modelo SentenceTransformer com o modelo 'all-MiniLM-L6-v2'\n",
    "model = SentenceTransformer(\n",
    "    'all-MiniLM-L6-v2',\n",
    "    cache_folder = cache_dir\n",
    ")\n",
    "\n",
    "# Codifica os textos do DataFrame pdf_subset usando o modelo SentenceTransformer\n",
    "faiss_review_text_embedding = model.encode(pdf_subset.review_text.values.tolist())"
   ]
  },
  {
   "cell_type": "code",
   "execution_count": 6,
   "id": "e52ad829-1785-478c-81f9-413b81ab1c92",
   "metadata": {
    "scrolled": true
   },
   "outputs": [],
   "source": [
    "# Importa bibliotecas numpy e faiss para tarefas de busca e indexação\n",
    "import numpy as np\n",
    "import faiss\n",
    "\n",
    "# Define um índice com base nas representações vetoriais normalizadas\n",
    "pdf_to_index = pdf_subset.set_index(['id'], drop=False)\n",
    "id_index = np.array(pdf_to_index.id.values).flatten().astype('int')"
   ]
  },
  {
   "cell_type": "code",
   "execution_count": 7,
   "id": "3b36df2f-6ae4-440f-94ec-2e217a30d3d2",
   "metadata": {},
   "outputs": [],
   "source": [
    "content_encoded_normalized = faiss_review_text_embedding.copy()\n",
    "faiss.normalize_L2(content_encoded_normalized)"
   ]
  },
  {
   "cell_type": "code",
   "execution_count": 8,
   "id": "ca0680a4-6441-4ec5-bfc1-9848cb0df9ca",
   "metadata": {},
   "outputs": [],
   "source": [
    "index_content = faiss.IndexIDMap(faiss.IndexFlatIP(len(faiss_review_text_embedding[0])))\n",
    "index_content.add_with_ids(content_encoded_normalized, id_index)"
   ]
  },
  {
   "cell_type": "code",
   "execution_count": 9,
   "id": "5cb42594-fab4-4349-8d2e-7b980f4793f5",
   "metadata": {},
   "outputs": [
    {
     "data": {
      "text/html": [
       "<div>\n",
       "<style scoped>\n",
       "    .dataframe tbody tr th:only-of-type {\n",
       "        vertical-align: middle;\n",
       "    }\n",
       "\n",
       "    .dataframe tbody tr th {\n",
       "        vertical-align: top;\n",
       "    }\n",
       "\n",
       "    .dataframe thead th {\n",
       "        text-align: right;\n",
       "    }\n",
       "</style>\n",
       "<table border=\"1\" class=\"dataframe\">\n",
       "  <thead>\n",
       "    <tr style=\"text-align: right;\">\n",
       "      <th></th>\n",
       "      <th>Unnamed: 0</th>\n",
       "      <th>review_id</th>\n",
       "      <th>pseudo_author_id</th>\n",
       "      <th>author_name</th>\n",
       "      <th>review_text</th>\n",
       "      <th>review_rating</th>\n",
       "      <th>review_likes</th>\n",
       "      <th>author_app_version</th>\n",
       "      <th>review_timestamp</th>\n",
       "      <th>id</th>\n",
       "      <th>similarities</th>\n",
       "    </tr>\n",
       "    <tr>\n",
       "      <th>id</th>\n",
       "      <th></th>\n",
       "      <th></th>\n",
       "      <th></th>\n",
       "      <th></th>\n",
       "      <th></th>\n",
       "      <th></th>\n",
       "      <th></th>\n",
       "      <th></th>\n",
       "      <th></th>\n",
       "      <th></th>\n",
       "      <th></th>\n",
       "    </tr>\n",
       "  </thead>\n",
       "  <tbody>\n",
       "    <tr>\n",
       "      <th>590</th>\n",
       "      <td>590</td>\n",
       "      <td>a39a73af-b972-4d1d-b0ff-2f3de1042928</td>\n",
       "      <td>531532066081682144461</td>\n",
       "      <td>ah*******ab</td>\n",
       "      <td>Too much irritating ads and very biased app</td>\n",
       "      <td>1</td>\n",
       "      <td>0</td>\n",
       "      <td>313.0.0.35.119</td>\n",
       "      <td>2021-05-19 20:04:29</td>\n",
       "      <td>590</td>\n",
       "      <td>0.728837</td>\n",
       "    </tr>\n",
       "    <tr>\n",
       "      <th>273</th>\n",
       "      <td>273</td>\n",
       "      <td>223581b8-b9f5-462d-9d38-ceb9395722eb</td>\n",
       "      <td>286976933485980711386</td>\n",
       "      <td>Ra**********uf</td>\n",
       "      <td>Too much ads</td>\n",
       "      <td>1</td>\n",
       "      <td>0</td>\n",
       "      <td>318.0.0.39.154</td>\n",
       "      <td>2021-05-19 20:02:19</td>\n",
       "      <td>273</td>\n",
       "      <td>0.722072</td>\n",
       "    </tr>\n",
       "    <tr>\n",
       "      <th>20</th>\n",
       "      <td>20</td>\n",
       "      <td>7468181f-3269-4520-8da8-de2319a1aac8</td>\n",
       "      <td>290311507932971927435</td>\n",
       "      <td>He*********ti</td>\n",
       "      <td>So many ads very disturbing..</td>\n",
       "      <td>1</td>\n",
       "      <td>0</td>\n",
       "      <td>313.0.0.35.119</td>\n",
       "      <td>2021-05-19 20:00:35</td>\n",
       "      <td>20</td>\n",
       "      <td>0.700315</td>\n",
       "    </tr>\n",
       "    <tr>\n",
       "      <th>771</th>\n",
       "      <td>771</td>\n",
       "      <td>9fc4a620-5ef0-4018-8e28-9b8266ff0138</td>\n",
       "      <td>538252606855977626763</td>\n",
       "      <td>mo*********al</td>\n",
       "      <td>Many ads</td>\n",
       "      <td>1</td>\n",
       "      <td>0</td>\n",
       "      <td>318.0.0.39.154</td>\n",
       "      <td>2021-05-19 20:05:39</td>\n",
       "      <td>771</td>\n",
       "      <td>0.694639</td>\n",
       "    </tr>\n",
       "    <tr>\n",
       "      <th>305</th>\n",
       "      <td>305</td>\n",
       "      <td>92b27ca1-bb55-4d17-9400-232eb3f29d45</td>\n",
       "      <td>177291521670578103105</td>\n",
       "      <td>At********an</td>\n",
       "      <td>too many ads</td>\n",
       "      <td>1</td>\n",
       "      <td>0</td>\n",
       "      <td>318.0.0.39.154</td>\n",
       "      <td>2021-05-19 20:02:30</td>\n",
       "      <td>305</td>\n",
       "      <td>0.688300</td>\n",
       "    </tr>\n",
       "  </tbody>\n",
       "</table>\n",
       "</div>"
      ],
      "text/plain": [
       "     Unnamed: 0                             review_id       pseudo_author_id  \\\n",
       "id                                                                             \n",
       "590         590  a39a73af-b972-4d1d-b0ff-2f3de1042928  531532066081682144461   \n",
       "273         273  223581b8-b9f5-462d-9d38-ceb9395722eb  286976933485980711386   \n",
       "20           20  7468181f-3269-4520-8da8-de2319a1aac8  290311507932971927435   \n",
       "771         771  9fc4a620-5ef0-4018-8e28-9b8266ff0138  538252606855977626763   \n",
       "305         305  92b27ca1-bb55-4d17-9400-232eb3f29d45  177291521670578103105   \n",
       "\n",
       "        author_name                                  review_text  \\\n",
       "id                                                                 \n",
       "590     ah*******ab  Too much irritating ads and very biased app   \n",
       "273  Ra**********uf                                 Too much ads   \n",
       "20    He*********ti                So many ads very disturbing..   \n",
       "771   mo*********al                                     Many ads   \n",
       "305    At********an                                 too many ads   \n",
       "\n",
       "     review_rating  review_likes author_app_version     review_timestamp   id  \\\n",
       "id                                                                              \n",
       "590              1             0     313.0.0.35.119  2021-05-19 20:04:29  590   \n",
       "273              1             0     318.0.0.39.154  2021-05-19 20:02:19  273   \n",
       "20               1             0     313.0.0.35.119  2021-05-19 20:00:35   20   \n",
       "771              1             0     318.0.0.39.154  2021-05-19 20:05:39  771   \n",
       "305              1             0     318.0.0.39.154  2021-05-19 20:02:30  305   \n",
       "\n",
       "     similarities  \n",
       "id                 \n",
       "590      0.728837  \n",
       "273      0.722072  \n",
       "20       0.700315  \n",
       "771      0.694639  \n",
       "305      0.688300  "
      ]
     },
     "metadata": {},
     "output_type": "display_data"
    }
   ],
   "source": [
    "# Define uma função para realizar a busca de conteúdo\n",
    "def search_content(query, pdf_to_index, k=5):\n",
    "    query_vector = model.encode([query])\n",
    "    faiss.normalize_L2(query_vector)\n",
    "\n",
    "    top_k = index_content.search(query_vector, k)\n",
    "    ids = top_k[1][0].tolist()\n",
    "    similarities = top_k[0][0].tolist()\n",
    "\n",
    "    results = pdf_to_index.loc[ids]\n",
    "    results['similarities'] = similarities\n",
    "\n",
    "    return results\n",
    "\n",
    "# Realiza uma pesquisa de conteúdo com a consulta 'annoying'\n",
    "# e exibe os resultados com as similaridades\n",
    "display(search_content('annoying ads', pdf_to_index))"
   ]
  },
  {
   "cell_type": "code",
   "execution_count": 10,
   "id": "8310870b-ec4b-4554-8751-7cd3b813d08c",
   "metadata": {},
   "outputs": [
    {
     "name": "stdout",
     "output_type": "stream",
     "text": [
      "Script execution time: 00:00:06\n"
     ]
    }
   ],
   "source": [
    "# Encerra a contagem de tempo e calcula o tempo total de execução\n",
    "end_time = time.time()\n",
    "total_time = end_time - start_time\n",
    "total_time = time.strftime(\"%H:%M:%S\", time.gmtime(total_time))\n",
    "print(\"Script execution time:\", total_time)"
   ]
  }
 ],
 "metadata": {
  "kernelspec": {
   "display_name": "cuda",
   "language": "python",
   "name": "cuda"
  },
  "language_info": {
   "codemirror_mode": {
    "name": "ipython",
    "version": 3
   },
   "file_extension": ".py",
   "mimetype": "text/x-python",
   "name": "python",
   "nbconvert_exporter": "python",
   "pygments_lexer": "ipython3",
   "version": "3.10.13"
  }
 },
 "nbformat": 4,
 "nbformat_minor": 5
}
