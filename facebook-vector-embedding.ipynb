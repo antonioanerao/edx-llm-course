{
 "cells": [
  {
   "cell_type": "code",
   "execution_count": 1,
   "id": "8b16dc1b-7447-4907-9e79-3d26eb7d920e",
   "metadata": {},
   "outputs": [],
   "source": [
    "import torch\n",
    "import pandas as pd\n",
    "import time"
   ]
  },
  {
   "cell_type": "code",
   "execution_count": 2,
   "id": "8924d0b9-ec83-43e2-aef8-4d8181e3a3df",
   "metadata": {},
   "outputs": [],
   "source": [
    "# Define um diretório de cache\n",
    "cache_dir = 'cache_dir'\n",
    "\n",
    "# Inicia a contagem de tempo\n",
    "start_time = time.time()"
   ]
  },
  {
   "cell_type": "code",
   "execution_count": 3,
   "id": "a116c976-b538-4769-b3b1-77de998f5799",
   "metadata": {},
   "outputs": [
    {
     "name": "stdout",
     "output_type": "stream",
     "text": [
      "GPUs available: 1\n",
      "GPU 0: NVIDIA RTX A4000\n"
     ]
    }
   ],
   "source": [
    "# Verifica se há uma GPU disponível e define o dispositivo (GPU ou CPU)\n",
    "device = torch.device('cuda') if torch.cuda.is_available() else 'cpu'\n",
    "num_gpus = torch.cuda.device_count()\n",
    "\n",
    "if num_gpus > 0:\n",
    "    print(f\"GPUs available: {num_gpus}\")\n",
    "    for i in range(num_gpus):\n",
    "        gpu_name = torch.cuda.get_device_name(i)\n",
    "        print(f\"GPU {i}: {gpu_name}\")\n",
    "else:\n",
    "    print(\"There is no GPU available. Using CPU\")"
   ]
  },
  {
   "cell_type": "code",
   "execution_count": 4,
   "id": "90cd03f3-6235-4546-9232-8f3ba5348e00",
   "metadata": {},
   "outputs": [],
   "source": [
    "# Lê um arquivo CSV usando pandas e adiciona uma coluna 'id' com índices\n",
    "# Link para download do arquvio .csv: https://www.kaggle.com/code/sela001/facebook-google-store-reviews/input\n",
    "pdf = pd.read_csv(f\"data/facebook_reviews.csv\")\n",
    "pdf['id'] = pdf.index"
   ]
  },
  {
   "cell_type": "code",
   "execution_count": 5,
   "id": "1cdd2ba6-b977-4dae-9b95-f53caed90a86",
   "metadata": {},
   "outputs": [],
   "source": [
    "# Importa a classe InputExample do pacote sentence_transformers\n",
    "from sentence_transformers import InputExample\n",
    "\n",
    "# Cria um subconjunto do DataFrame pdf com as primeiras 100.000 linhas\n",
    "pdf_subset = pdf.head(100000)\n",
    "\n",
    "# Define uma função example_create_fn para criar instâncias InputExample a partir de uma série pandas\n",
    "def example_create_fn(doc1: pd.Series) -> InputExample:\n",
    "    \"\"\"\n",
    "        Função auxiliar que cria um exemplo InputExample com um único texto.\n",
    "    \"\"\"\n",
    "    return InputExample(texts=[doc1])"
   ]
  },
  {
   "cell_type": "code",
   "execution_count": 6,
   "id": "81642db3-947b-44e0-90e9-4b2d58199ebc",
   "metadata": {
    "scrolled": true
   },
   "outputs": [],
   "source": [
    "# Aplica a função example_create_fn a cada linha do subconjunto pdf_subset\n",
    "# e cria uma lista de objetos InputExample\n",
    "\n",
    "faiss_train_examples = pdf_subset.apply(lambda x: example_create_fn(x['review_text']), axis=1).tolist()"
   ]
  },
  {
   "cell_type": "code",
   "execution_count": 7,
   "id": "02cef946-94ff-47ac-8586-25d2b1591d41",
   "metadata": {},
   "outputs": [],
   "source": [
    "# Importa a classe SentenceTransformer do pacote sentence_transformers\n",
    "from sentence_transformers import SentenceTransformer\n",
    "\n",
    "# Inicializa um modelo SentenceTransformer com o modelo 'all-MiniLM-L6-v2'\n",
    "model = SentenceTransformer(\n",
    "    'all-MiniLM-L6-v2',\n",
    "    cache_folder = cache_dir\n",
    ")\n",
    "\n",
    "# Codifica os textos do DataFrame pdf_subset usando o modelo SentenceTransformer\n",
    "faiss_review_text_embedding = model.encode(pdf_subset.review_text.values.tolist())"
   ]
  },
  {
   "cell_type": "code",
   "execution_count": 8,
   "id": "010a9c1d-b8c5-494e-b90f-f2dbaee10aeb",
   "metadata": {},
   "outputs": [
    {
     "data": {
      "text/plain": [
       "(100000, 384)"
      ]
     },
     "execution_count": 8,
     "metadata": {},
     "output_type": "execute_result"
    }
   ],
   "source": [
    "# Calcula o comprimento das representações vetoriais e do primeiro vetor\n",
    "len(faiss_review_text_embedding), len(faiss_review_text_embedding[0])"
   ]
  },
  {
   "cell_type": "code",
   "execution_count": 9,
   "id": "e52ad829-1785-478c-81f9-413b81ab1c92",
   "metadata": {
    "scrolled": true
   },
   "outputs": [],
   "source": [
    "# Importa bibliotecas numpy e faiss para tarefas de busca e indexação\n",
    "import numpy as np\n",
    "import faiss\n",
    "\n",
    "# Define um índice com base nas representações vetoriais normalizadas\n",
    "pdf_to_index = pdf_subset.set_index(['id'], drop=False)\n",
    "id_index = np.array(pdf_to_index.id.values).flatten().astype('int')"
   ]
  },
  {
   "cell_type": "code",
   "execution_count": 10,
   "id": "3b36df2f-6ae4-440f-94ec-2e217a30d3d2",
   "metadata": {},
   "outputs": [],
   "source": [
    "content_encoded_normalized = faiss_review_text_embedding.copy()\n",
    "faiss.normalize_L2(content_encoded_normalized)"
   ]
  },
  {
   "cell_type": "code",
   "execution_count": 11,
   "id": "ca0680a4-6441-4ec5-bfc1-9848cb0df9ca",
   "metadata": {},
   "outputs": [],
   "source": [
    "index_content = faiss.IndexIDMap(faiss.IndexFlatIP(len(faiss_review_text_embedding[0])))\n",
    "index_content.add_with_ids(content_encoded_normalized, id_index)"
   ]
  },
  {
   "cell_type": "code",
   "execution_count": 12,
   "id": "5cb42594-fab4-4349-8d2e-7b980f4793f5",
   "metadata": {},
   "outputs": [
    {
     "data": {
      "text/html": [
       "<div>\n",
       "<style scoped>\n",
       "    .dataframe tbody tr th:only-of-type {\n",
       "        vertical-align: middle;\n",
       "    }\n",
       "\n",
       "    .dataframe tbody tr th {\n",
       "        vertical-align: top;\n",
       "    }\n",
       "\n",
       "    .dataframe thead th {\n",
       "        text-align: right;\n",
       "    }\n",
       "</style>\n",
       "<table border=\"1\" class=\"dataframe\">\n",
       "  <thead>\n",
       "    <tr style=\"text-align: right;\">\n",
       "      <th></th>\n",
       "      <th>Unnamed: 0</th>\n",
       "      <th>review_id</th>\n",
       "      <th>pseudo_author_id</th>\n",
       "      <th>author_name</th>\n",
       "      <th>review_text</th>\n",
       "      <th>review_rating</th>\n",
       "      <th>review_likes</th>\n",
       "      <th>author_app_version</th>\n",
       "      <th>review_timestamp</th>\n",
       "      <th>id</th>\n",
       "      <th>similarities</th>\n",
       "    </tr>\n",
       "    <tr>\n",
       "      <th>id</th>\n",
       "      <th></th>\n",
       "      <th></th>\n",
       "      <th></th>\n",
       "      <th></th>\n",
       "      <th></th>\n",
       "      <th></th>\n",
       "      <th></th>\n",
       "      <th></th>\n",
       "      <th></th>\n",
       "      <th></th>\n",
       "      <th></th>\n",
       "    </tr>\n",
       "  </thead>\n",
       "  <tbody>\n",
       "    <tr>\n",
       "      <th>1988</th>\n",
       "      <td>1988</td>\n",
       "      <td>59a3533e-318b-414d-aef5-0f48914507a7</td>\n",
       "      <td>247567193081736265615</td>\n",
       "      <td>Al***li</td>\n",
       "      <td>Annoying ads</td>\n",
       "      <td>1</td>\n",
       "      <td>0</td>\n",
       "      <td>318.0.0.39.154</td>\n",
       "      <td>2021-05-19 20:13:28</td>\n",
       "      <td>1988</td>\n",
       "      <td>1.0</td>\n",
       "    </tr>\n",
       "    <tr>\n",
       "      <th>4081</th>\n",
       "      <td>4081</td>\n",
       "      <td>f17ec2c8-638a-4ff6-8b61-992679b60253</td>\n",
       "      <td>833742452695631979894</td>\n",
       "      <td>Na********in</td>\n",
       "      <td>Annoying ads</td>\n",
       "      <td>1</td>\n",
       "      <td>1</td>\n",
       "      <td>318.0.0.39.154</td>\n",
       "      <td>2021-05-19 20:26:35</td>\n",
       "      <td>4081</td>\n",
       "      <td>1.0</td>\n",
       "    </tr>\n",
       "    <tr>\n",
       "      <th>72372</th>\n",
       "      <td>72372</td>\n",
       "      <td>11bad759-9a71-4bca-8c6f-5e8e37e82a90</td>\n",
       "      <td>187328715730339093319</td>\n",
       "      <td>Am*******ed</td>\n",
       "      <td>Annoying ads</td>\n",
       "      <td>1</td>\n",
       "      <td>0</td>\n",
       "      <td>50.0.0.10.54</td>\n",
       "      <td>2021-05-20 05:07:57</td>\n",
       "      <td>72372</td>\n",
       "      <td>1.0</td>\n",
       "    </tr>\n",
       "    <tr>\n",
       "      <th>78823</th>\n",
       "      <td>78823</td>\n",
       "      <td>bd1f8fdb-7120-4138-b2a8-879d851e2d9f</td>\n",
       "      <td>569894952590078664392</td>\n",
       "      <td>El************ou</td>\n",
       "      <td>Annoying ads</td>\n",
       "      <td>1</td>\n",
       "      <td>0</td>\n",
       "      <td>NaN</td>\n",
       "      <td>2021-05-20 06:32:06</td>\n",
       "      <td>78823</td>\n",
       "      <td>1.0</td>\n",
       "    </tr>\n",
       "    <tr>\n",
       "      <th>16346</th>\n",
       "      <td>16346</td>\n",
       "      <td>9e66cb5d-95c1-4c7b-ae98-5c49435b1f0f</td>\n",
       "      <td>334486271231783063416</td>\n",
       "      <td>ad*************ri</td>\n",
       "      <td>Annoying ads</td>\n",
       "      <td>1</td>\n",
       "      <td>1</td>\n",
       "      <td>318.0.0.39.154</td>\n",
       "      <td>2021-05-19 21:51:03</td>\n",
       "      <td>16346</td>\n",
       "      <td>1.0</td>\n",
       "    </tr>\n",
       "  </tbody>\n",
       "</table>\n",
       "</div>"
      ],
      "text/plain": [
       "       Unnamed: 0                             review_id  \\\n",
       "id                                                        \n",
       "1988         1988  59a3533e-318b-414d-aef5-0f48914507a7   \n",
       "4081         4081  f17ec2c8-638a-4ff6-8b61-992679b60253   \n",
       "72372       72372  11bad759-9a71-4bca-8c6f-5e8e37e82a90   \n",
       "78823       78823  bd1f8fdb-7120-4138-b2a8-879d851e2d9f   \n",
       "16346       16346  9e66cb5d-95c1-4c7b-ae98-5c49435b1f0f   \n",
       "\n",
       "            pseudo_author_id        author_name   review_text  review_rating  \\\n",
       "id                                                                             \n",
       "1988   247567193081736265615            Al***li  Annoying ads              1   \n",
       "4081   833742452695631979894       Na********in  Annoying ads              1   \n",
       "72372  187328715730339093319        Am*******ed  Annoying ads              1   \n",
       "78823  569894952590078664392   El************ou  Annoying ads              1   \n",
       "16346  334486271231783063416  ad*************ri  Annoying ads              1   \n",
       "\n",
       "       review_likes author_app_version     review_timestamp     id  \\\n",
       "id                                                                   \n",
       "1988              0     318.0.0.39.154  2021-05-19 20:13:28   1988   \n",
       "4081              1     318.0.0.39.154  2021-05-19 20:26:35   4081   \n",
       "72372             0       50.0.0.10.54  2021-05-20 05:07:57  72372   \n",
       "78823             0                NaN  2021-05-20 06:32:06  78823   \n",
       "16346             1     318.0.0.39.154  2021-05-19 21:51:03  16346   \n",
       "\n",
       "       similarities  \n",
       "id                   \n",
       "1988            1.0  \n",
       "4081            1.0  \n",
       "72372           1.0  \n",
       "78823           1.0  \n",
       "16346           1.0  "
      ]
     },
     "metadata": {},
     "output_type": "display_data"
    }
   ],
   "source": [
    "# Define uma função para realizar a busca de conteúdo\n",
    "def search_content(query, pdf_to_index, k=5):\n",
    "    query_vector = model.encode([query])\n",
    "    faiss.normalize_L2(query_vector)\n",
    "\n",
    "    top_k = index_content.search(query_vector, k)\n",
    "    ids = top_k[1][0].tolist()\n",
    "    similarities = top_k[0][0].tolist()\n",
    "\n",
    "    results = pdf_to_index.loc[ids]\n",
    "    results['similarities'] = similarities\n",
    "\n",
    "    return results\n",
    "\n",
    "# Realiza uma pesquisa de conteúdo com a consulta 'annoying'\n",
    "# e exibe os resultados com as similaridades\n",
    "display(search_content('annoying ads', pdf_to_index))"
   ]
  },
  {
   "cell_type": "code",
   "execution_count": 13,
   "id": "8310870b-ec4b-4554-8751-7cd3b813d08c",
   "metadata": {},
   "outputs": [
    {
     "name": "stdout",
     "output_type": "stream",
     "text": [
      "Script execution time: 00:00:25\n"
     ]
    }
   ],
   "source": [
    "# Encerra a contagem de tempo e calcula o tempo total de execução\n",
    "end_time = time.time()\n",
    "total_time = end_time - start_time\n",
    "total_time = time.strftime(\"%H:%M:%S\", time.gmtime(total_time))\n",
    "print(\"Script execution time:\", total_time)"
   ]
  }
 ],
 "metadata": {
  "kernelspec": {
   "display_name": "cuda",
   "language": "python",
   "name": "cuda"
  },
  "language_info": {
   "codemirror_mode": {
    "name": "ipython",
    "version": 3
   },
   "file_extension": ".py",
   "mimetype": "text/x-python",
   "name": "python",
   "nbconvert_exporter": "python",
   "pygments_lexer": "ipython3",
   "version": "3.10.13"
  }
 },
 "nbformat": 4,
 "nbformat_minor": 5
}
