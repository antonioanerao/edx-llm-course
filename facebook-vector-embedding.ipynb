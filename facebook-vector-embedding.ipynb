{
 "cells": [
  {
   "cell_type": "code",
   "execution_count": 1,
   "id": "8b16dc1b-7447-4907-9e79-3d26eb7d920e",
   "metadata": {},
   "outputs": [],
   "source": [
    "import torch\n",
    "import pandas as pd\n",
    "import time"
   ]
  },
  {
   "cell_type": "code",
   "execution_count": 2,
   "id": "8924d0b9-ec83-43e2-aef8-4d8181e3a3df",
   "metadata": {},
   "outputs": [],
   "source": [
    "# Define um diretório de cache\n",
    "cache_dir = 'cache_dir'\n",
    "\n",
    "# Inicia a contagem de tempo\n",
    "start_time = time.time()"
   ]
  },
  {
   "cell_type": "code",
   "execution_count": 3,
   "id": "a116c976-b538-4769-b3b1-77de998f5799",
   "metadata": {},
   "outputs": [
    {
     "name": "stdout",
     "output_type": "stream",
     "text": [
      "GPUs available: 1\n",
      "GPU 0: NVIDIA RTX A4000\n"
     ]
    }
   ],
   "source": [
    "# Verifica se há uma GPU disponível e define o dispositivo (GPU ou CPU)\n",
    "device = torch.device('cuda') if torch.cuda.is_available() else 'cpu'\n",
    "num_gpus = torch.cuda.device_count()\n",
    "\n",
    "if num_gpus > 0:\n",
    "    print(f\"GPUs available: {num_gpus}\")\n",
    "    for i in range(num_gpus):\n",
    "        gpu_name = torch.cuda.get_device_name(i)\n",
    "        print(f\"GPU {i}: {gpu_name}\")\n",
    "else:\n",
    "    print(\"There is no GPU available. Using CPU\")"
   ]
  },
  {
   "cell_type": "code",
   "execution_count": 4,
   "id": "90cd03f3-6235-4546-9232-8f3ba5348e00",
   "metadata": {},
   "outputs": [],
   "source": [
    "# Lê um arquivo CSV usando pandas e adiciona uma coluna 'id' com índices\n",
    "# Link para download do arquvio .csv: https://www.kaggle.com/code/sela001/facebook-google-store-reviews/input\n",
    "pdf = pd.read_csv(f\"data/facebook_reviews.csv\")\n",
    "pdf['id'] = pdf.index\n",
    "\n",
    "# Cria um subconjunto do DataFrame pdf com as primeiras 1.000 linhas\n",
    "pdf_subset = pdf.head(1000)"
   ]
  },
  {
   "cell_type": "code",
   "execution_count": 12,
   "id": "02cef946-94ff-47ac-8586-25d2b1591d41",
   "metadata": {},
   "outputs": [
    {
     "name": "stdout",
     "output_type": "stream",
     "text": [
      "['bad app', 'Really really annoying app ... like if its not my account but thier.... Specially v are not free to say what we want to ask if its not making them happy .... 👎👎👎👎👎', 'Cunsurinimo', 'Bad experience', \"Totally pathetic experience too many ads and being baised they don't let everyone post freely those against their views they make them removed automatically.\", 'ابلكيشان عنصوري', \"Can't stop notification till forever.. It keeps ding dang dong all the time after reach maximum time period\", \"I'm not agree with your biased policy against Israel and Palestine conflict\", 'Basics against Islam and Muslims states that encourages all post that harm Muslims. Should be ashamed of their posts policies.', 'Very bad', 'Pathetic agenda being driven by a mainstream social media app without the concent of its users.', 'Bad', \"Support post's against Islam\", 'Diskriminasi', 'I rate this only one star because this app does not keep any sharing and delete it a time and also block \"account ID\" against ISRAEL brtual behavior towards PALESTINAIN.', 'Too many ads', 'Supports terrorism', 'Not good', 'Chutyap', 'i suggest we all move to another platform, soo bias, fake news, pornography, islampohbia , supporing terrorists like Isreal defence force, trying to control and destroy the brains of our children. You think your smart? the world is realising the truth...', 'So many ads very disturbing..', 'Bias app....', 'You are not a HUMAN!', 'Armaan malik', 'You must stop israil killer.', 'Totally baised censorship. Conflict of thought, perception and interest. Said to be made to make the world more free to express themselves yet stands with the oppression and steals the right to speak from the oppressed.', 'I hate this App', 'Facebook killing support innosent', 'Serve u right', \"facebook shohib syi'ah ama yahudi\", 'Irrational', 'Bias reach ,', 'فیسبک اسرائیل کے فلسطین کے نہتے لوگوں پر ہونے والے ظلم پر آواز اٹھانے کی بجائے جو لوگ آواز بلند کر رہے ہیں ان کی آئی ڈی بلاک کر رہا ہے۔ فیسبک پر لعنت بےشمار', 'Zionis !!!', 'this app is totally biased and works on western agenda against Islam and Muslims .', 'لا يحترم حقوق الانسان', 'poor application', 'Who will jutify the illegal likes given by facebook to anonymous page Without the consent of its users. There is a big question mark over the transparency of the app now.', 'Where is the dark theme feature ?', 'Pathetic.. the new video options and cover story are all irrelevant.', 'Facebook is double standard', 'Extremely biased app towards Israel A terrorist state.', '💔', 'Disgusting weak app', 'This app failed to support muslims around the world under brutality.', 'Bad actions', 'كبت الحريات', 'Gg', '😑', 'Inappropriate, biased criteria', '🙂', 'Very bad', 'Too many ads. I want trun off app sound but no option now. This app is getting bad day by day.', \"I happend to find Facebook being biased towards Isreal and removing content about what's happening in Palestine. Absolutely disgusting!!! Are you trying to cover up the atrocities and the oppression that is happening towards the people of Palestine??? Shame on you!! If I could give 0 stars, I would have. #STOPTHEOPPRESSION #FREEPALESTINE!\", 'Bad!!!!', 'فضول ہے', 'No good', 'Biased page ..', 'Facebook is supporting innocent Killings.....!!!', 'It supports violence', 'Lack of neutrality', 'Very biased platform supporting israel worst barbarism ever...... Shame on you mark👎', '🙂', 'Bad application', 'Too boring no new features', 'Very bad and encourage racism issues', 'Flastin', 'Not bad', 'It supports aparthied!Is it not enough?', 'Worst app', 'Supporting killing innocents', 'It is not safing', 'Mark is Racist', 'Facebook does not respect freedom of speech targets specific groups and religions and censors their posts however allows hate speech from specific groups. #palestine', \"Facebook has shown an obvious bias regarding the horrible attacks by Israel on innocent Palestinians in terms of removing/hiding posts in support of Palestine and promoting pro apartheid-Israel pages. Doesn't befit a social media platform to display such a bias and selectively take away people's voices, especially when they're trying to raise them against oppression.\", 'This so hurt us that fb is deleting post about philistine and in order to posting about the innocent Muslims the fb is suspended the account for a while and i am against this so i am very tired for this attitude of fb....... 😠😠😠😠 🖕🖕🖕🖕', 'Too bad politics', 'Biased platform', 'It is very bad', \"Struggling for freedom and against colonialism is not terrorism snd shouldn't be against your policies. Be evnhanded.\", \"Facebook supporters pleastine women' and children's mudder.\", 'Facebook is using anti-palestinian policy which is not acceptable in any regards bcz apps like this should be neutral in such genocided situations.', 'Verybad', 'Facebook policy bahut ghatiya hai jo Hamare account block kar rahi hai Hamari Hath aur sach ki awaaz ko daba rahi hai shame Israel sport shame Facebook', '😑', 'very bad app', 'Its spam', 'Hypocrites', 'Khra', 'Sia application too', 'poor, very bad experience.', 'This app is not good for using', 'Very Disappointed', 'Worst ever appication. So time wasting', 'You guys keep banning me for only saying the truth', 'Horrible!', 'Most pathetic app and biased as well. Shame on you Mark Zuckerberg and team.', \"I strongly condemn Israel's attacks and terrorism on Palestine. And facebook's support for Israel indicates that facebook is supporting a terrorist state of Israel on the massacre of humanity. And accounts that share content against Israel are being blocked.\", 'Facebook is a biased social media platform. It usually stop and threat its users who use freedom of speak. To speck about humanity is not wrong. To become a international social media platform. Facebook should have to face and accept the thought of that people who speck about humanity and peace in the World. As majority of people want to speck about terrorism of Israel in Palestine and Facebook remove their post and block them temporary. And this has happened before.', 'Pathetic,racist app.', \"Facebook is totally protecting Jew's point of view and block all the accounts who talk against Israel In my opinion it's worst app on play store\", 'too much bugs', 'Due to facebook racism towards muslims and non Muslims community. Its spreading negativity towards one race and fully supporting other causing unequal rights in the social media.', 'bad', 'Shittest experience', 'This is bad app for our huminty and muslim pepole', 'Facebook is promoting Israeli page from our accounts without our consent which is totally unfair. #Israel is a terrorist State.', \"It's all about wastage of time.\", 'Is very bad aplication', 'World most gutter app.Bad ads showing always.Sexual ads showing at top people may know.Hiding it show again and again.These filthy ads are not against Community?????? Shame on you. I delete it now.', 'Conservative and hypocrisy', 'متحيز مع الظالم ضد المظلوم', 'Free balstaine', 'Discrimination support according to religion and ethinicity', 'افاق', 'Facebook is a biased plateform and a smarter toy of Zionists and their Godfathers.', \"Outdated. Facebook just thinks about its own gains. Doesn't give a damn about its users. It ignores the sentiments and emotions of oppressors and supports the wrongdoers for its personal gain. Facebook supports the genocide of Palestinian people by Israel.\", 'Wahayat', 'Only advertising and fake news so bad', 'Bias view against Palestine 🇵🇸', 'قمع حرية الرأي', 'Attack people privacy Never support freedom of opinion', 'Racism behavior', 'Bad your mind', \"They don't respect Religious point of you. People around all muslims get hurt from abusing video and pictures of our beloved prophet Muhammad. That why i am going to mark it one star.\", 'Very baad app', 'Stop censoring content in favor of palastine.', 'Racistband impartial', 'Very bad app', \"It's so irritating.. why ads being showed during videos. And notications are so irritating even i have off them several times. No update also work for this. Pathetic app now!!!\", 'Unequal freedom of expression', 'Absolutely bizarre supporting wrong groups', 'No more updates for this one, it should neutral in every condition and reporting, not pick a side👎', 'You are biased! Taking down posts and comments pro palestine! Limiting our views and promoting jewish lobby. Zuckerberg could post in favour of black lives matter why the silence and take over of social media now? We see through you! #sheikhjarrah', 'Offensively Racist', 'Violance', 'Hope there is lite version with less services so it ram & battery usage friendly ^_^', 'Censorship', 'Biased app towards ghaza n Palestine 🇵🇸', 'تطبيق متحيز لإسرائيل ويساعد ع اخفاء الحقائق وتزيف الواقع ويجب تغير المعاير لنكون ع الأقل حيادية', 'Its a Racist app who is continuously blocking reality based posts now a days on Israel (the terrorist state). One should not use this app if he/she is human. Israel is responsible for spreading hatred and terrorism by killing innocent Muslims in Gaza. As facebook is supporter of Israel 🇮🇱so everyone should delete this app immediately.', '😡', 'Not good تطبيق علق زى اللى عمله', 'Post and pages against Islam', 'A app which supposed Zionist. Worst app.', 'No privacy, as Facebook always trying to put its nose on others personal data. No freedom of speech is guaranteed, as Facebook is always standing in the way of freedom and liberty, as it always works on an agenda.', 'Facebook is biased with Israel. They are hiding the atrocities on Palestine and stopping the users to show the truth. They are supporting False Pro Israel content.', 'Just hate this social media platform', 'The application does not support the speech freedom, it is blocking the Palestinian subjects.', 'dislike it', 'التحيز والعنصرية', 'Too many ads', 'Biased', \"Facebook is Biased & Anti Muslim app. It's policy is against freedom of speech. Israeel is a Terrorist State and we want freedom for فلسطین\", '😠', 'This app supports the genocide of innocent children.', 'So many hacker with unpropriate things', 'Bkwas app supporting israil terrorist country', 'Emmm', 'It is supporting terrorism', 'Facebook can approve what u post or not based on their criteria', 'too bad', 'Facebook is biased when it comes to the truth', 'Hypocrisy aap', 'So far so good 😂', 'زبالة منحاز', 'Partial and support innocent killing', 'تطبيق عنصري racist app', 'Akun saya tiba tiba hilang.', 'Facebook spotting killing innocents', 'Good app', 'Useless', 'Bugs everywhere... Whenever try to speak up against hatred .posts gets deleted automatically...', 'Facebook is biased and supporting opression of Palestine by israel.', 'Just waste of time', 'Discrimination of Muslims', 'very bad', 'Nice', 'trash', 'انحياز للكيان الصهيوني', 'Ban Facebook 😔', 'Due to bias attitude towards Muslim', 'Support killing innocent', 'Baad', 'سيئ جدا', 'Wrost', 'Its harmfull app These are helping to kill the unsecured people', 'Trash app', 'Racist freedom suppressant', \"It is not friendly we can't upload our content friendly Muslims specially can't upload any type of their religion content its very unfair and unfriendly it is nonsupportive\", 'Bad app , not secure and many ad', 'Worst app ever', 'Racist app', 'Dua kro Ak star mel rha kam tumhary stars waly nhi hn', 'Ok', \"it's bad app\", 'biased sensorship', 'تطبيق عنصري', 'Free plastine', 'should not be political tool', 'bad', 'the bad app ever', 'Facebook is supporting cruelty against Muslims.', 'ok', 'Not good', 'Facebook supports killing innocent भो श्री के', 'Facebook is biased.', 'This app is very bad i hate this app', 'Too many ads with low video quality', 'We stand with palasteen...', 'Facebook supports killing innocent it should be banned', '😷😷😷', 'baaaaaad', 'Worst app', 'Hate this platform', 'Support terrorists', '👎🏻👎🏻👎🏻', 'Not fair, bias', 'Too much ads, privacy issues, censorship', \"I don't like it much because 97% posts in the Facebook are not true\", 'Facebook is biased, it picks and chooses what is allowed to be posted', 'Supports terrorism', 'Worst application of my life soo much disgusting gonna report this now', 'Facebook is bias towards palestine', 'Very bad', 'Totally waste of time, worst social media app I ever used', 'Cheapest mind set 🥺', 'Biased towards Palestinians', 'This is so bad app', 'This app is full of spam', 'Bias, such applications should intervene in political or religion issues, shame on you to take sides.', \"I don't like your step\", 'Privacy concerns', 'Not satisified', 'Nice', 'سيئ جدا والله', \"A lot of things I don't like about facebook. One of the main things being ads like really irrelevant ads. And of the latest that came to light was the bias towards the Palestinian people\", 'Facing problems', '😡😡😡😡', 'Worst app I ever used.', 'Creul people .. not letting us post about the truth', 'You are not neutral', 'Its have too much spam and voilencd based data and too much ads suggesting.... And its supporting against Muslims', 'nia jo thini tan na kar', '#GhazzaUnderAttack', 'Dirty community', '👎', 'Waste app', 'Baised app', \"I Can't stand hows it's racist towards Palestine and has its bias protecting Israel. This is unacceptable.\", 'This app getting worse', 'ان تعودا نعد ولن تغني عنكم فئتكم شيئا ولو كثرت وان الله مع المؤمنين', 'كاذب', 'Because of biasness against Palestine and supporting Israel.', 'Baised', 'Discriminating against arabs and muslims', 'I sport philistine', \"Facebook is not a good platform for the oppressed as it is suspending all the accounts that are raising voice against Israeli agression. Facebook needs to review its policy regarding public opinion and should work for betterment of humanity. I'll leave and deactivate my account on FB if it is not going to change its policy towards Muslims and Palestinians.\", 'Bad app', 'Hate', 'Hate facebook', 'This app is not supporting Muslims', '#GazaUnderAttack', 'Fake Isrial Sporter Go To Hell', 'سئ جدا جدا', 'THE APP WHO PROMOTE ISLAMOPHOBIA AND BLOCK ACCOUNTS OF MUSLIMS', 'So glitchy, unnecessary notifications, takes long time to response, too many ads and deletes biased posts that makes it against the freedom of speech.', \"Does not like Facebook. Facebook support to antimuslim people's\", 'Its not good', 'Biased on Censorship', 'Censorship of the occupation in gaza and Palestine', 'Bad app', 'Supporting violence, free speech restrictions', 'Too much ads', 'Not good policy', 'Bad app', 'Bad', \"Very bad it's the worst\", \"It's very bad\", 'So bad', 'Support Al aqsa', 'Poochiii', 'Suck Racial', 'Facebook is supporting a country that is killing innocent people', '👎', 'الفيس صفحة عنصرية نساند اليهود', 'دہشتگردی کی پشت پناہی کر رہا ہے', 'Disgusting app', 'Disappointing censorship and biased algorithms', 'Lots of ads and un relatable things occur', 'Israil nawaz policy', 'Very poor and outdated', 'Best', \"Totally biased app. Facebook Does not give it's users to express their views and is totally against FREEDOM of Expression. Posts gets instantly deleted and account gets blocked if you express your views against any oppression and Injustice.\", 'Biased application', 'Worst experience ever. They use our data without the consent of the owner and support the terrorists.', 'Biased social media platform, enforcing blockage of posts relating to the Palestine genocide currently taking place.', 'Racist app', \"Why you don't have to do work on report . There are a lot of people who are pretending myself or my friends and you can't do anything\", 'Its very bad app...dont download its anty muslim app', 'Facebook support Israel.. support terrorism and non-neutral', 'Hate this platform', \"I'm support pelastin\", '😞', 'my all posts is delet israil posts am hurt', 'too many ads', 'It is a bad app', 'Marc Zurkontol racist', \"Don't like\", 'They delete the truth posts', 'Facebook are supporting that country who kills innocent childs nd people.', 'I have no time to think about it.', 'فين حريه الرأي 🤷🏻', '#prayforphilistine', 'متحيز لاسرائيل', \"It doesn't feel safe\", 'Bad', \"Supporting violation it's really bad\", \"They select what they support and refuse what against them believes, it's sucks.\", 'Biased', 'Disappointed by the biased towards israel', 'Baised platform. Censoring content and protecting tyrant states.', 'Racist, biased company against Muslims. This company sold data of American people to 3rd party companies. Facebook should be banned.', 'Rubbish app', 'Very bad app ... And founder', 'Is it very bad app', 'Jelek', 'They are faking likes on Jerusalem prayer group', 'Racist!', \"Not fair... My 13-year-old FB account with more than 4500 friends was deleted just because I still use the old Cellular number (it has expired) and I hope FB can reactivate my account Candra Indosolid atau @indosolid. I'm waiting for the confirmation email to reactivate my account, which has been deactivated since April 21, 2021 .. !!\", 'You guys are not fair with Palestinian issues', 'Not able to turn off notifications', 'Biased censorship. Promoting dominating ideology by supporting the powerful. Unnecessary suggestions to support bigotry.', 'فيس بوك لا يحترم حرية الرأي', 'The worst experience i have with facebook they are bloody moroons.they manupulate the data', '👎👎', 'Do favourism only specific group and country', \"It's to bad app it wasting your time and you have to stop using it\", '👎👎👎👎👎👎👎👎👎👎👎👎👎👎👎', 'This app in general is very good💝', 'Bad app', 'They are spreadig terriosirm against countries', 'this application ban me every time i comment', 'سيئ و عنصري و متحيز جدا', 'Poor', 'Rubbish', 'Racist application', 'Bad,racist', 'Racist', 'फेसबुक बीजेपी का एजेण्ट लग रहा है', 'This app promotes fake and inhumane things. This app justify Isreal terrorism. So i hate it', 'Facebook cannot impose its will on anyone. Facebook creates its own page and adds users without their permission.', \"It's support terrorism\", 'Terribly biased', 'Fake you facebook....chame on you', 'Bad 😜', 'Diskriminatif', 'Restricts accounts for opposing their opinions and the people they support..', 'Worst', 'Very bad', 'Humilating', 'It was not good', 'This app Supports terrorism!', 'So bad', 'Stop racism against muslims.', 'Biased community rules', 'Good app', 'Backing up terorist activity.', \"A page was given like by my account and accounts of some of my friends without our knowledge, Facebook is supporting Israel's oppression towards Palestine which as a platform it shouldn't! All lives matter #savesheikhjarrah #sheikhjarrah neighborhood #save Palestine\", 'The app is starting to be so annoying , everytime , too many ads , it also changes features very often', 'كذابين', 'Too many irrelevent ads', 'to many ads', 'Very bad app', 'ازدواجية معاير وإدارة تقيم سيئة', \"Totally biase won't let you have your say don't recommend.\", 'Biased app and developers. Supporting terrorism is all they have left to do. Such a disappointment.', 'Worst', 'Usual', 'It is very bad ..', 'Biased behaviour with Muslims and countinues lifting balls of jews by creating the page and giving it automatically 76m follower✋', 'Bad', 'Pathetic', 'Racist application', 'so bad', 'Palesetin', 'Shows discrimination', 'No a good experience', 'Plastine under attack', '😒😠', 'Bad app', '👎🏻', 'Bad experience', 'Hunh🌚 kala mounh Neely pair😨', 'It is very bad app.. Plzz rate thiss app.. Really.. I swear 🤬. all around the world peoples upload very Very badly posts.. I request you to plzz banned this bad app for lifetime... Thanks..', 'Use less app', 'Shiiiiit🤮🤮💩💩', 'هذا اجرام رسمي', 'Facebook is supporting Israeli oppression on Palestinians by deleting posts against israel.', 'Bad security!', 'Facebook is Racist it incites to violence and hatred', 'Ali EM RA N', 'Bakwas app', 'Amazing', 'yahudi', 'Not bad', 'So bad', 'Bad app', 'BAD', 'تطبيق غير مفيد', 'Yahudi Ka Agent hai Yeah', 'Support Al Aqsa', 'Experiencing the most biased attitude over Palestine issue', 'Face \"spam\" book', 'very bad app.....,', 'Bad function app... Everytime crash', 'Below than satisfactory', 'He isnt allow freedom of speech he delets coments and postz', 'Double standard policy', 'Save plastine', 'Too many Snap adds', 'Facebook is so biased towards israel,, it really failed', 'Very poor', 'Biased', 'Worst app. Very biased towards palestine.', 'Bad', '🇸🇩🇸🇩🇸🇩', 'Alla tol ads ads ads. Not good.', 'This app is suck', 'Biased towards Israeli terrorism', 'No respect.. facebook must be neutral at all world issue', 'dictator', \"Because of the biased behaviour towards Israel. I condemn facebook's racism towards Palestine. Social Media platforms should promote Basic Human Rights and support the people who are facing these problems rather than supporting the people who are not even aware of the basic human rights.\", 'Not good, infact this app is biased which represents powerful people.', 'Useless', 'Biased towards Palestine!', 'Should not be biased.', 'Baised', \"It's seems like the app has a bias of its own. The idea of social media platform is free speech. The Facebook has been automatically liking and following the accounts and pages without the prior permission/ consent of users.\", 'This app steals data.... secondly they create pages and auto like them without permision', 'Not good at all', 'Facebook suppert killing innocent', 'kebanyakan iklan dan tidak adil dalam menilai postingan.', 'لانحيازه لاسرائيل', 'برنامج سيء جدا جدا', 'Too much ads and its very difficult for users to understand any thing', '😡', 'Facebooo saupport killing innocent', 'Worst of the apps', 'Very bad app', 'Biased app. Free Palestine', 'Not satisfied with the policies and privacy(2021)', 'Fake news are in abundance', 'Mark zuckrrberg Shame on you', 'Biased', 'Biased', 'The worst', \"Facebook policies restrict freedom of speech and support Israel's atrocities against palestinians.\", 'Very biased app supporting Israel', 'So bad, useless, racist, and violent. IT IS SUPPOSED TO BE REMOVED.', 'Facebook now is very partisans and biased...', 'Biased display of Israel Palestine news', 'C app supports terrorism and helps spread murder and injustice in the world', 'برنامج فاشل وعنصري', 'من اجل الاقصى', 'facebook is blocking our IDs posting again a terrorist country Israeel.', 'Very bad app', 'Bad', 'Please make this application more fast and lighter', 'Hazaro masumo ki mot ka karan h ye Facebook.. Aaaak thuu', 'Gaza under attack and Facebook block us from comment', 'معايير المجتمع عنصريه جدا', '🙄', 'Cheap app', '#beacouse Facebook with killer izarail #istandwithphalestine', 'I really love the app but now I hate it ! Shame on u people for blocking and removing the posts of Palestine! Come on have some humanity u dumb people raise the issue !', 'Rubbish', 'Bad', 'U know what i mean....', \"Very bad experience. It doesn't support freedom of expression rather suppress it particularly when someone crititicise isreals policy towards Palestinians. It clearly supports apertheid Zionist regime. Also it defame Jews by mixing Zionism with semitism.\", 'Biased', 'bad app', 'Facebook support killing inncontact', \"Facebook is a totally biased app. I object it's racism behaviour towards Palestine.\", 'Too much ads... not recommend', 'Not fair', 'Too many adds', 'Very bad policy of facebook', 'Zionist app', 'this app is just BLOATWARE and i personally believe that it comes with the phone without ability to uninstall so that you\\'re tracked to create what facebook calles a \"shadow profile\", even if you don\\'t use facebook ever and don\\'t have a facebook account. i don\\'t and i can\\'t uninstall - only \"disable\". i believe that it breaches my rights. i\\'ll go apple where it\\'s not a \"mandatory app\".', 'Very bad app there is no any investigation about any user and then after some min block the user....', \"It's automatically liking a certain (racist terrorist) page even if i didn't like it same thing happened to my friends..our privacy is private but it still happened..and not to mention that page is just created in a few days ang got a million likes already and i saw my friend in the following or liked in that page when i ask them if they liked or follow that page they said they didn't and why the hell would they support a terrorist country...fix ur fb and don't be bias\", 'credibility', 'Bad', 'Unexceptable dual standard', 'Bad', 'Speach hate', 'الانحياز للكيان الصهيوني', 'Bad', 'dont like it anymore', 'This app supports terrorism!', 'Biased app. Supporting bloody israeli state', 'متحيز', 'This app hidden the truth', 'Racism', 'Bad', 'Spreading hate', 'Against freedom Not respect privacy', 'Useless', 'Pathetic', 'Useless', 'Deleting posts that the admin didnt like based ob personal interest ... no freedom of speech whatsoever is seen', '👎👎', 'Op', 'Too many ads', 'Not a good app', 'Facebook supports killing innocent. Very shameful', 'Only One Star For your Biasness against Palestine Towards Israel', 'Bad censorship', 'disgusting', 'Worst platform', 'supporting inhuman activities', 'Bad', 'Sooo bad', 'To many ads!!!', 'to many ads', 'Facebook constantly censors Pro-Palestinian accounts reporting the atrocities in Palestine! Shame shame!!!', 'Worst app ever found on google play.very worst experience no check and balance.WTH', 'Facebook is biased. Supporting israils brutal attacks on gaza.', 'Not nice', 'Biased', 'Fecbook is supporting country who r killing Innnocoant people', 'Discrimination against large group of people in favour of others', '👎🏻', 'Fenatic site', 'For crippling dissent.', 'Bad', 'Now no need of Facebook on earth 🌎.', 'Suggest terrorism', 'Bias app', 'Cheapest mind set... Jani thori sharm khao. 🙏', 'All settings changed sponsered poat are more important than my freinds posts', 'Linda Williams 💘,', 'Release Al aqsa', 'Bad worst', 'Just disgusting app....destroying young generation', \"I don't use this aap anymore and has not effected me in anyways. So we can live without Facebook. Its have become very boring to use Facebook. Too mny things in one app\", 'متحيز', \"Way too many ads, far more glitches than usual and the overall quality of the app has just dropped. Also, whenever I try to change my privacy settings it just changes them back to the way they were and nothing I do seems to be stopping that. On top of all that, me and a significant amount of my friends have noticed our posts being taken down for no reason at all and it's got to a point where it's just straight up frustrating! I am so close to just uninstalling this app!\", 'I stand with Falastin', 'Biased towards Palestine and muslims', 'Supporting terrorism', \"It's a biased app... Cuz it supports Israel against innocent Palatinians..\", 'Be aware of this Zionist app who support the global terrorist Zionism movement...no free speech ...hiding the truth...', 'Very bad experience not suitable for children under 18', 'Freedom of speech is not for everyone on this platform! Owner seems to be a hypocrate persone.', 'Bad apps', 'nice', 'Biased App', 'عنصري', '☹️', 'تطبيق عنصرى', 'A racist program and has no benefit nor does it benefit others', 'Racist application', 'Very bad', 'Not care human right', 'fb is so bad', \"It's a bad program\", 'harshly regulated applications and too many spam', 'تطبيق فيس بوك في الاونة الاخيرة أثبت انه تطبيق غير حيادي ويحث على العنصرية والطائفية واثبت انه مكمم للإفواه ومقيد للحرية من خلال التعليق أو المشاركة للاسف!', 'تطبيق عنصري و غير محايد . و يعمل على تكريس نظام الإحتلال و الفصل العنصري الإسرائيلي و سرديته المفضوحة...', 'You are fair ..or nutrel about phalisten and israel issue', \"Facebook started talking sides and trying to silence some people's voices.\", \"It removes my posts even when they don't violate the terms. It is better to call this app as political media\", 'Very bad, very biased toward kids killer', 'Very strange and one sided sensorship', '👎👎👎👎👎👎👎👎👎👎👎', 'kebaikan di banned, giliran kejahatan dibiarin😢', \"Facebook does not support to innocent peoples it is against pelestian. And support to Israel's army It is not fair. MAS\", 'Bad app', 'Good', 'Not good Facebook 👎', 'Too many ads and slow', \"Im giving u a 1 star because u doesn't deserve 5 stars .\", 'Cannot refresh', '👎', 'Support anti Islam activists', 'Bad service', 'Very Bad Experience', 'bad', 'Too much irritating ads and very biased app', 'عنصري', 'This App is disgusting not spotting the Phalestien', 'Pathetic Trying to shut down people who talk for truth and stand against oppression', 'Facebook support killing innocent, favour of atrocities and hatred,', 'Horrible!', 'Not safe Fake content Waste of time and energy', 'biased app.', 'التحيز للمجرمين وقتله الاطفال', 'Biased App for Different Communities', 'Supporting the killers of innocent people.', '😡🤬😠', 'Useless -_-', 'Killing you', 'Shame on you', 'Facebook killing innocent muslim', 'biased news coverage. double standard.', 'بطئ', 'Worst app, supports hatred and silences the voice of the oppressed people. No freedom to post our views. The posts get deleted.', 'Zionist supporter!', 'Bad', 'تطبيق شئ جداااا', 'Giving 1 star because of biased policy of Facebook and extremely unprofessional puppet behavior', 'I posted a star for comment only, Facebook is a racist and biased program, it has double standards', 'The worst app ever used till now', 'its not a Useful for humanity', 'Too many ads..buat semak jak..', 'Supporters of Zionist', 'Bekar h', 'حسبنا الله ونعم الوكيل', 'Promoting advert based on religious biasness and sentiments is an act of discrimination', \"Facebook is know giving auto likes to different pages without the permission of user...and that's disgusting\", 'Very wrost app', 'Too many ads', \"Very bad doesn't respect others\", 'Anti Muslim actions', 'Phalistin people life matter', 'Bakwas apps', '🦴', 'average', 'it is need more update and not security', 'عوفو الغدس يا غواويد', 'Zionist app', 'Compromise your data and favours the wrong ones always', \"Policies of this app is very bad.. It's totally work on the against of muslim\", 'Love it', 'Not a good app for the good reason..', 'I condemn Facebook for racism and bias attitude towards Muslims of Palestine', 'تطبيق يدعم دوله لاوجود لها اساسا ويحاول تزييف الحقائق وتشويه صورةالعرب في العالم لمصلحه بعض الميليشيات المحتله للاراضي العربيه', 'Biased posts towards zionist terrorists.', 'Worst', 'bad app', 'Free falasteen', 'Horrible app. Censors important posts about real life issues. No thank you', \"This role against my islam that's why\", 'This app not protected for Muslim account', 'Killing our opinions and unfair filtering of humanity', 'Not giving rights', 'He was not impressed', 'Mark zuckerberg is supporting Terrorism', 'More ads', 'Facebook has been preventing me from creating awareness for basic human rights, I feel this in humanely unfair, horrible, unjust and bias behavior, I would never recommend this app when it comes to upholding basic human rights', 'عنصرين', 'Farji app h', 'Face book Dealing with racism', 'برنامج فاشل', 'Shame on you facebook for support the terrorist state israil. Dislike', 'Dont good', 'Its better than any other app', 'Dtd', 'تطبيق عنصري جدا', 'Facebook is racist and extremist', 'Say Yes to Freedom, Say Yes to Freedom of Speech, Say No to Hate Speech. Facebook is nothing but a Hypocrite Medium who protects the oppressor, hate mongers and refuses to show the struggle of Palestinians and Kashmiris.', \"Facebook is becoming a biased platform day by day. By creating Jerusalem Prayer Team Page and giving it followers automatically..they hurted the feelings of Muslims in Palestine.That's why it deserves 1⭐ #istandwithpalestine #israelisaterroristcountry\", 'Biased app. Free Palestine.', 'Facebook functionality is deteriorating. The App ads are annoying and constantly irrelevant.', 'Because of unfair support to Israel', 'I stand with philistin...', '1 star because of biasness towards Palestine issue. #FreePalestine #Israel_TerroristState', 'Spread the real news regarding Al Aqsa and sheikh jarrah.', 'not working properly', 'I given 1rating because Facebook saport killing innocent in gaja', 'Very sad as this is supporting the terrorist country of the world... No need', \"Facebook is biased on the basis of religion.it is supporter of the killer of innocent people from gaza.wake Facebook open your eyes and see the world. don't behave like puppet.\", 'Racism', 'Very much heavy app phones starts to stuck...', 'This apps is so boring. Please learn more to improve it!', 'Facebook support only one side containt', 'Politique commerciale défamente', '1 stat', 'سئ جدا', 'Racist', 'It supports racism', 'No fair', \"This app isn't objective. As Arabs doesn't allow us to express ourselves, ideas and opinions. This app supports all people and folks except Arabs.\", 'Bad', 'Biased App.', 'I like this', 'Racist ,biased in political events, not neutral and prohibits the expression of opinion, a lot of ads prevent me from enjoying the video and push me to close it at times, a lot of changes in policies and features', \"Because this app is under control of some people and supports one sided agenda, Doesn't give right of freedom of speech and keeps on quiting the truth. Sells false information. Makes pages & gives followers without user's concern.\", 'Worst', 'Due to racism towards muslim and nonmuslims. Social applications do not have rights support anyone or show racism. I wish i could give negative rating. #savehumans', 'Very bad', 'Biased', 'Disgusted by their silence towards the oppression of the people in Palestine and shadow banning pro-palestinian content. Until we are all free, none of us free! Every life matters.', 'Very good creation', 'Many times fake news', 'Facebook support terrorism (Isreal is a Terrorist country)', \"Whenever I try to report on something which is against my religion they don't remove it!!!!\", \"Facebook is hiding everything the people of Palestine going through which is not good It's against the humanity and Facebook is biased as well\", 'Stupid facebook. Lock my account for no reason. Then i dont get any code at my gmail. I cant unlock it.', \"I condemn facebook's bias towards Palestinians. Facebook is silencing Palestinians who are fighting for their freedom.\", '👎', 'خرا', 'Raciest app', 'Bad app', 'Good app', 'Most biased social media app', 'للاسف ابليكيشن مسيس لايعرض الحقائق كاملة منحاز انحياز تام لإسرائيل و الصهيونية', 'عشان انتو ولاد وسخه بتدعمو اليهود', 'Privacy and security issues', 'Bice in censorship', \"For biased approach and silencing voices against Israel's attacks on Gaza and killing civilians including children and women.\", 'متحيز وسئ', 'Block account for posting against اسرائیلی', 'seriously dude, your moral compass need to be reset.', 'Because Facebook supports the tyran', 'tooo much biosed app', 'This for fb', 'The adds make it hard to watch video or even check daily news', 'Not good', 'Silly app that censure anything you post. No more freedom! This is wrong it has been going on for a year now.', 'This app is not interesting anymore because of irrelevant ads.', 'Israel attack against Palestinian homes, people.. Unfair', 'Disgusting', 'Yhus really a null', 'Fake you Mark we are stand in felastene', 'Facebook restricts freedom of expression 😡🤬 Free Palestine 🇵🇸', 'Aplikasi jelek', 'Racist', 'عنصري', 'Unfair app', 'Bias Pro Israel support and delay in notifications often recieved more than 24 hours later', 'Unlike', 'سئ للغاية', 'Breach of privacy and supporting propoganda are the new morals for Facebook. They are biased now.', 'Controlling content...disappointing', 'I condemn your biased response towards Israel and showing racism towards Palestine. #standwithpalestine #shameonisrael #freepalestine', 'برنامج ضعيف ابن متناكه انصح بمسح كسمه من علي وش الارض', 'Poor', 'Facebook supports the occupied Zion terrorist groups, and whoever supports terrorism is a terrorist تطبيق عنصرى', 'Palastinian people are being oppressed by Zionist colonial settlers # free palastine', 'Bed experience', 'Shame on you!', 'تطبيق سئ', 'Because the app is biased towards the Jews', 'Feedup of Facebook racist policies. Seriously not recommend', '#عشان_الأقصى', 'Biasat Support the terrisom of islam', \"I am being added to groups without my consent. It's a breach of my trust and my privacy.\", 'I am so disappointed of how you treated other ppl views', 'Allah bachae brbad kare', 'Bias till the core', 'انصحكم بتحميله', 'Its a biased app in religious terms', 'horrible', 'Racist', 'Baised App', \"Blocking people account for raising voice ,about innocent #Phalistine people killed by terrorist Israel's forces.\", \"Too many ads, too much spam. No longer an active user like I used to be. Have it only to keep in touch with people who don't use other apps but doesn't seem worth it even for that. May just delete the app\", 'Biased on Palestine information', 'Censorship on jews indication.', 'V good', 'i,love phalstene', 'It socks and has a lot of problems', 'Facebook supporting a country who killed innocent muslims', 'برنامج عنصري', 'ابلكيشن عنصري والي ماسكه ابن كلب', 'STOP CENSORING PALESTINIAN VOICES AND SUPPORTING ISRAEL.qq', 'تطبيق عنصري', 'No privacy.', 'Many ads', 'Biased organisation. helping in spreading hate and terrorism at the hands of imperialist and colonial and military states', 'Not good', 'Not fare', 'The application is not supporting freedom of speech and banning certain accounts for expressing their opinions which do not align with the Facebook agenda though they do not have anything not following the regulations.', 'Not fair', '😠😠😠Facebook supporter killing lnnocent 😠😠😠', 'Biased and racist', 'Unfair', 'Facebook is supportin a country who r killing', 'تطبيق سئ جدا', 'Like', 'Biased', 'The application is politically biased to Israel and restricts freedom of speach.', 'worst', 'So baaaad', 'Social media should be neutral but Facebook is not .', 'Worst experience! Very unreasonable staff!..', 'Its biased app. it not give the freedom to speak against terror to muslim in the world.', 'Tha app is not working in so many days so help us to re generated this app ok', 'I \"HATE\" this app so much😠😠.This app\\'s creator will go to Hell♨️.And this app users too.THIS IS THE MOST USELESS APP IN THE WHOLE ENTIRE WORLLDD And So many ads🤬😬.Whoever is reading this Give this app 1 star.PLEASE.May ALLAH protect us from this Evil app.🙂 BYE!🖤', 'Supporting aggression', 'Very bad', 'No freedom of speech, everything is watched, Facebook is automatically deleting posts, stories, and hashtags about the Palestinian struggle claiming it goes against the community standards, but when someone make a racist comment or homophobic or islamophobic comment, this somehow is good for their standards.', 'Useless', '👎🏻', 'Hai mark.. Mak ko hijauuu', 'Horrible', \"Isreal is most wanted terrest people's\", \"Being a platform of social interaction, i thought Facebook would promote freedom of expression but at the same time won't allow sentiments of any social or religious group got hurt. However, i see a lot of biases in this regard. Particularly regarding Islam, Facebook won't ever take any action against ridiculing or mocking holy personalities or beliefs of Muslims. On the other hand, they won't allow anything to be posted against oppressions by Israel in Palestine and by India in Kashmir.\", '#freepleasent', 'A waste and unuseful app', 'Whenever we post about Israeel or Hitlor,Facebook team block our account but why,we are not have freedom to say anything on facebook.Is this Facebook policy,very shame,What is going on Palestine,Muslims Are dying,where is your policy now,', 'Very bad', 'Face book sport to israill complain this face book policy iam not sport to israill I hate israill not wold this israill', 'المعايير منحازة', 'Bad', 'Facebook support killing of innocent in gazza', 'Biased', 'Support a murderer', 'Face book now not freedom.', 'facebook... k supports killing innocent', 'Facebook has been bias towards its reporting .', 'Too many spamming', 'face book is supporting murder of innocent Palestinian children. and blocking accounts on raising voice against israrl cruelity.facebook totaly biased app it is not nuteral.', 'Too bad', \"Bcoz of it's biases. Support Israel a terror state who kills innocent Children's an d peoples\", 'Haha bghit', 'سيئ', 'Hated content', 'Prevent the freedom of speech', 'Worse ...in this years of service..', 'Facebook has been biased because it support Isyraily media and defame Palestinian', 'Bad performance', 'Biased attitude of moderators', 'Bad, too many ads & scam', 'Awesome', 'Pakistaniyon sy panga nahi😂😂', 'Be haya beshrmi ho ri h ispr is waqt', 'This app is racism', 'Very bad', 'Isreal is a terrorism country he attack in muslm umha he is bad country', \"Add's under facebook are not controlled by IT team totally paid against islam and spreading hatred content against our holy prophet s.a.w and their companions Do check out and remove them all\", \"Every time it updates it doesn't open up I've to uninstall and reinstall it\", 'No fair on this platform 👎👎👎👎', 'perfect', 'Supports apartheid Israel, biased media, sensors the truth.', 'Bad', 'Completely biased towards Israel', 'Bad', 'Terrible', 'Facebook suports Killing innocent', 'Very bad. Limiting reach and censoring posts related to Palestine.', 'Face book have got biased views about muslims and dont care about human violence especialy chldren and women rather promote india and israiel', \"App support Israel . and any post against Israel has been remove or block I'd\", 'Dil Cha rha ta', 'So bad', '#Save_Gazza', 'Hate you', 'Worst', 'In', 'meri mrzi', 'Blesaakkk', '😡😡😡', 'A little bit better', 'Baaaaad policy.', 'Facebook is bias due to the racism towards Palestine I condemn this.', 'Silences voice of dissent', \"Facebook support's kilings innocent\", 'Behtreen', 'Facebook supports palestinian genocide... Biased app', 'Make equal rules for all.', 'Very bad', 'Biased censor policy', 'Ads too long between videos', 'Facebook kiling innocent', 'Very very bad', 'Hate it', \"Your app crashes a lot, shows me notification numbers that don't exist & when people reply to my comments or mention me i barely get notified about! But i was ignoring that, what i can't ignore is how biased and racist you turned out to be. Deleting comments & posts and freezing people accounts that show a truth you are trying to hide. Shame on you. #Gazaunderattack\", 'This platform is discrimnating on the basis of religion and supporting the killing of innocent humans, shame on you', 'Sad', '🐴', 'No freedom of speech', 'Atrocious', \"Biased with keywords, doesn't allow freedom of speech and expression, works at the hands of great powers and influences by changing dynamics of world order\", 'It is involve with the terrisom against inocent plastines', 'Awsome', \"This app is hacking the privacy of the data for both android and iPhone devices , it's also has problems in the software system , also it makes some stranges like following unethical pages and dirty people , obviously, this app has an authority to block the free opinions that may protestants their political loyalty like Israel's occupation of Palestine !\", 'Bekar', 'Biased toward israel (terrorist)', 'عنصري حيادي يتضامن مع الظلم ويدعم الكيان الصهيوني', 'This app is not good', 'Horrible, time wasting. 👎👎👎', 'Not like', 'This application always keeps hiding the truth... it is clear that it owned by Zionist, it show Apartheid against some oppressed civil people according to their religion, race and thoughts, that is fully stupid-_-', 'Offensive', 'Fu*k you', 'Condemning and objecting to the racism and bias towards Palestinians by Facebook', 'تطبيق سيء', 'Facebbok support killing innocent in ghaza and block who wrote against israil', 'Useless app', '#free_pelestine', 'Why you goes against islamo phobias', 'Support killing innocent people You are afraid to show the truth', 'GANDA BACHA SAMJTA NHI HAI KI KYA SHI KYA GALT ISLIYE SJA TU DENI HAI ISLIYE 1 STARWA DENGA HUM ISE', 'Too much censorship being done. Specially upon the content in Support of Palestinians. Facebook is totally supporting the Apartheid, Terrorist state Israel and trying to curb the voices of the oppressed Palestinians. SHAME ON THAT! FACEBOOK SUPPORTS ZIONIST ISRAEL TERRORISTS', 'سياااااااا', 'Describe', 'Very bad application', '👎👎', 'Because you sport israil same', 'facebook killing supports innocent', 'Good morning', 'زى الزفت و عنصرى و ماشى بمزاجه', 'To many ads', 'تطبيق سئ', 'Very bad experience', 'Playing Such a biased game.... #palestinefreedom #israelisaterroriststate', 'Censorship', 'Biased app', 'Very Bad App', 'Pathetic application', 'Double standard for muslim', 'Bad app', \"Worst and biased app ever.... STOP THE GENOCIDE IN palestine. DON'T FAVour israel and dont delete the content and posts that are in fabour of Palestine. Biased and Pathetic partial app. We stand for palestine We stand for gaza....\", 'Stupid app', 'Facebook supports killing innocent.facebook blocks and down reach of muslim activists. Facebook supports terrorist country that is israel.', 'Worst', '😡😡😡😡😡😡😡😡😡😡', 'The application is unfair Supporter of terrorism 😡😡😡 Shame on you', 'Very bad program', 'Biased company with biased policies w.r.t freedom of speech. Selective freedom of speech.', \"Facebook is a social media platform that should not hold any bias against any particular group and stop spreading rumors and spread the correct information around the world and it is so sad to watch them hide the real face of Israel and their terrorist behavior behind the fake pages and news. What's happening in Palestine right now should be spread and the real face of Israel (terrorist) must be shown on all social media platforms and if they fail to do the justice they should not even exist.\", 'Bad As a button Melodic', 'Facebook has breached privacy law according to me when I found out it is making me like pages automatically without my consent. People should go to their liked pages and see what facebook has liked by itself', 'this app is very bad', 'Lowest Facebook is nounsense because its favours israil . Israil is a terorist country.Stop banning accounts and posts against israil.', 'Biased app', 'Bad', 'too many adds.', 'baaaad', 'Bad', 'Racism , this app is not socially equal', 'The Application is supporting specific Political activities also too many ads Improve your application please !', 'Facebook became racist and biased', 'Facbook acha app hay lakin is sa koch post waghara khod bakhod delet kar diya jata hai jesa k plastin ka bare me is traha k post ho is ki ya kam acha nahi ha......', 'You support terrorism', 'Shame on you', '3xu9ub😤😧ft', 'Unethical Racial biases towards Palestinian', 'Biased', 'They limiting post about truth events. Too political.', 'Facebook support killing innocent and spreading non equality between humans', \"If there was a -5 stars i would've gave it to this useless app Have been hacked through this weak app and the admin did nothing\", 'Full of ads. Steals cookies and browser history. Biased news against opressed people of Palestine.', 'State biased and racist', 'سئ', '#indiastandwithpalstian', 'Waste of time', 'سيئ جدا جدا جدا ومقرف اكتر من صانعه', 'Biased on censorship', 'Created a zionist supporting page JPT and gave it automatic 76 million likes including millions of Muslims.Never expected such bias from FB', 'Not good', 'Sory', \"Doesn't respect people privacy and rights\", 'Terrible app.', 'Not fair 😕', 'Bad application', \"We don't have freedom of speech on this platform.\", 'We dont feel free now, everything blocked, full of foolish policy, especially when we write about palestine. #prayforpalestine', 'Facebook is only political and time pass tool in India. It should be used for betterment of humanity, environment and world brotherhood', 'Social apps donot take sides', 'ينحاز بدون موضوعيه لمواضيع هامه وسياسيه', 'What a poor policy to stop the post against israeel. It is not good. Wherevis freedom of speech.', 'Here delete post related to islam r jihaad', 'Being bias', \"Very bad I condemn and reject Facebook's biased policy against the Palestinian people) The right of the Palestinians to defend themselves\", 'worst attitude with oppressed muslims of palestine , not even supporting the posts that are supporting those oppressed muslims', 'The worst app everrrr 😏😏', 'Limiting freedom of speeck', \"Facebook is very much bad app, it doesn't give us freedom on our expressions 😡😡😡✋👠👠👠👠👠\", 'Bht adds ati hain aur slow', 'Wasting time and useless apps for all people and theif ours data Ours privacy not secure 🔐', \"Facebook has for long shown no interest in human rights and right or wrong. All that it cares about is money. We all care about money since it is a necessity to live but we earn by staying within certain parameters and societal norms. Facebook's behaviour is analogous to robbing, selling drugs and pimping; caring only about money and not about how it is earned. And the reason it is still adamant, is the lack of accountability as those charged with power themselves care only about money.\", 'Very bad', 'Bad', 'دعما لاقصانا', 'I hate israil', 'savepalaestine', 'Awful highly censored', 'Facebook is not safe anymore . Facebook is using our accounts and giving likes to any page they want to like.', 'Biased Application.', 'this is very bad app i have ever seen in my life it causes conflict between religions and promote racisim', 'They support zionist killers and responsible for killing so many humans', 'Such an dirty and fraud app. Who stands with the wrong people In short who stand up only for non-muslims.', 'Very bad', 'Facebook spporting killing of innocent people......ll', 'Provides a poor service', 'No privacy', 'So many words need cover up.', 'Hi sir I lock my phone but play my video', 'Stupid app.Not working good and has discriminatory policies against poor, innocent and Muslims.Support terrorist isreali agenda. That is shameful and against humanity. That is cause of disturbance and harmful for peace of world. It should be ban', 'I support philistine', 'always block user without relevant reason', 'Biased app. Free Palestine.', 'Bad', 'I think there should be 0 star option', 'bad performance after update. annoying ads. crashed multiple times.', 'i rate this only one star because this app does not keep any sharing and delete iy a time and also block\" account ID\" against ISRAEL brutal behaviour towards PALESTINAIN.']\n"
     ]
    }
   ],
   "source": [
    "# Importa a classe SentenceTransformer do pacote sentence_transformers\n",
    "from sentence_transformers import SentenceTransformer\n",
    "\n",
    "# Inicializa um modelo SentenceTransformer com o modelo 'all-MiniLM-L6-v2'\n",
    "model = SentenceTransformer(\n",
    "    'all-MiniLM-L6-v2',\n",
    "    cache_folder = cache_dir\n",
    ")\n",
    "\n",
    "# Codifica os textos do DataFrame pdf_subset usando o modelo SentenceTransformer\n",
    "faiss_review_text_embedding = model.encode(pdf_subset.review_text.values)"
   ]
  },
  {
   "cell_type": "code",
   "execution_count": 6,
   "id": "e52ad829-1785-478c-81f9-413b81ab1c92",
   "metadata": {
    "scrolled": true
   },
   "outputs": [],
   "source": [
    "# Importa bibliotecas numpy e faiss para tarefas de busca e indexação\n",
    "import numpy as np\n",
    "import faiss\n",
    "\n",
    "# Define um índice com base nas representações vetoriais normalizadas\n",
    "pdf_to_index = pdf_subset.set_index(['id'], drop=False)\n",
    "id_index = np.array(pdf_to_index.id.values).flatten().astype('int')"
   ]
  },
  {
   "cell_type": "code",
   "execution_count": 7,
   "id": "3b36df2f-6ae4-440f-94ec-2e217a30d3d2",
   "metadata": {},
   "outputs": [],
   "source": [
    "content_encoded_normalized = faiss_review_text_embedding.copy()\n",
    "faiss.normalize_L2(content_encoded_normalized)"
   ]
  },
  {
   "cell_type": "code",
   "execution_count": 8,
   "id": "ca0680a4-6441-4ec5-bfc1-9848cb0df9ca",
   "metadata": {},
   "outputs": [],
   "source": [
    "index_content = faiss.IndexIDMap(faiss.IndexFlatIP(len(faiss_review_text_embedding[0])))\n",
    "index_content.add_with_ids(content_encoded_normalized, id_index)"
   ]
  },
  {
   "cell_type": "code",
   "execution_count": 9,
   "id": "5cb42594-fab4-4349-8d2e-7b980f4793f5",
   "metadata": {},
   "outputs": [
    {
     "data": {
      "text/html": [
       "<div>\n",
       "<style scoped>\n",
       "    .dataframe tbody tr th:only-of-type {\n",
       "        vertical-align: middle;\n",
       "    }\n",
       "\n",
       "    .dataframe tbody tr th {\n",
       "        vertical-align: top;\n",
       "    }\n",
       "\n",
       "    .dataframe thead th {\n",
       "        text-align: right;\n",
       "    }\n",
       "</style>\n",
       "<table border=\"1\" class=\"dataframe\">\n",
       "  <thead>\n",
       "    <tr style=\"text-align: right;\">\n",
       "      <th></th>\n",
       "      <th>Unnamed: 0</th>\n",
       "      <th>review_id</th>\n",
       "      <th>pseudo_author_id</th>\n",
       "      <th>author_name</th>\n",
       "      <th>review_text</th>\n",
       "      <th>review_rating</th>\n",
       "      <th>review_likes</th>\n",
       "      <th>author_app_version</th>\n",
       "      <th>review_timestamp</th>\n",
       "      <th>id</th>\n",
       "      <th>similarities</th>\n",
       "    </tr>\n",
       "    <tr>\n",
       "      <th>id</th>\n",
       "      <th></th>\n",
       "      <th></th>\n",
       "      <th></th>\n",
       "      <th></th>\n",
       "      <th></th>\n",
       "      <th></th>\n",
       "      <th></th>\n",
       "      <th></th>\n",
       "      <th></th>\n",
       "      <th></th>\n",
       "      <th></th>\n",
       "    </tr>\n",
       "  </thead>\n",
       "  <tbody>\n",
       "    <tr>\n",
       "      <th>590</th>\n",
       "      <td>590</td>\n",
       "      <td>a39a73af-b972-4d1d-b0ff-2f3de1042928</td>\n",
       "      <td>531532066081682144461</td>\n",
       "      <td>ah*******ab</td>\n",
       "      <td>Too much irritating ads and very biased app</td>\n",
       "      <td>1</td>\n",
       "      <td>0</td>\n",
       "      <td>313.0.0.35.119</td>\n",
       "      <td>2021-05-19 20:04:29</td>\n",
       "      <td>590</td>\n",
       "      <td>0.728837</td>\n",
       "    </tr>\n",
       "    <tr>\n",
       "      <th>273</th>\n",
       "      <td>273</td>\n",
       "      <td>223581b8-b9f5-462d-9d38-ceb9395722eb</td>\n",
       "      <td>286976933485980711386</td>\n",
       "      <td>Ra**********uf</td>\n",
       "      <td>Too much ads</td>\n",
       "      <td>1</td>\n",
       "      <td>0</td>\n",
       "      <td>318.0.0.39.154</td>\n",
       "      <td>2021-05-19 20:02:19</td>\n",
       "      <td>273</td>\n",
       "      <td>0.722072</td>\n",
       "    </tr>\n",
       "    <tr>\n",
       "      <th>20</th>\n",
       "      <td>20</td>\n",
       "      <td>7468181f-3269-4520-8da8-de2319a1aac8</td>\n",
       "      <td>290311507932971927435</td>\n",
       "      <td>He*********ti</td>\n",
       "      <td>So many ads very disturbing..</td>\n",
       "      <td>1</td>\n",
       "      <td>0</td>\n",
       "      <td>313.0.0.35.119</td>\n",
       "      <td>2021-05-19 20:00:35</td>\n",
       "      <td>20</td>\n",
       "      <td>0.700315</td>\n",
       "    </tr>\n",
       "    <tr>\n",
       "      <th>771</th>\n",
       "      <td>771</td>\n",
       "      <td>9fc4a620-5ef0-4018-8e28-9b8266ff0138</td>\n",
       "      <td>538252606855977626763</td>\n",
       "      <td>mo*********al</td>\n",
       "      <td>Many ads</td>\n",
       "      <td>1</td>\n",
       "      <td>0</td>\n",
       "      <td>318.0.0.39.154</td>\n",
       "      <td>2021-05-19 20:05:39</td>\n",
       "      <td>771</td>\n",
       "      <td>0.694639</td>\n",
       "    </tr>\n",
       "    <tr>\n",
       "      <th>305</th>\n",
       "      <td>305</td>\n",
       "      <td>92b27ca1-bb55-4d17-9400-232eb3f29d45</td>\n",
       "      <td>177291521670578103105</td>\n",
       "      <td>At********an</td>\n",
       "      <td>too many ads</td>\n",
       "      <td>1</td>\n",
       "      <td>0</td>\n",
       "      <td>318.0.0.39.154</td>\n",
       "      <td>2021-05-19 20:02:30</td>\n",
       "      <td>305</td>\n",
       "      <td>0.688300</td>\n",
       "    </tr>\n",
       "  </tbody>\n",
       "</table>\n",
       "</div>"
      ],
      "text/plain": [
       "     Unnamed: 0                             review_id       pseudo_author_id  \\\n",
       "id                                                                             \n",
       "590         590  a39a73af-b972-4d1d-b0ff-2f3de1042928  531532066081682144461   \n",
       "273         273  223581b8-b9f5-462d-9d38-ceb9395722eb  286976933485980711386   \n",
       "20           20  7468181f-3269-4520-8da8-de2319a1aac8  290311507932971927435   \n",
       "771         771  9fc4a620-5ef0-4018-8e28-9b8266ff0138  538252606855977626763   \n",
       "305         305  92b27ca1-bb55-4d17-9400-232eb3f29d45  177291521670578103105   \n",
       "\n",
       "        author_name                                  review_text  \\\n",
       "id                                                                 \n",
       "590     ah*******ab  Too much irritating ads and very biased app   \n",
       "273  Ra**********uf                                 Too much ads   \n",
       "20    He*********ti                So many ads very disturbing..   \n",
       "771   mo*********al                                     Many ads   \n",
       "305    At********an                                 too many ads   \n",
       "\n",
       "     review_rating  review_likes author_app_version     review_timestamp   id  \\\n",
       "id                                                                              \n",
       "590              1             0     313.0.0.35.119  2021-05-19 20:04:29  590   \n",
       "273              1             0     318.0.0.39.154  2021-05-19 20:02:19  273   \n",
       "20               1             0     313.0.0.35.119  2021-05-19 20:00:35   20   \n",
       "771              1             0     318.0.0.39.154  2021-05-19 20:05:39  771   \n",
       "305              1             0     318.0.0.39.154  2021-05-19 20:02:30  305   \n",
       "\n",
       "     similarities  \n",
       "id                 \n",
       "590      0.728837  \n",
       "273      0.722072  \n",
       "20       0.700315  \n",
       "771      0.694639  \n",
       "305      0.688300  "
      ]
     },
     "metadata": {},
     "output_type": "display_data"
    }
   ],
   "source": [
    "# Define uma função para realizar a busca de conteúdo\n",
    "def search_content(query, pdf_to_index, k=5):\n",
    "    query_vector = model.encode([query])\n",
    "    faiss.normalize_L2(query_vector)\n",
    "\n",
    "    top_k = index_content.search(query_vector, k)\n",
    "    ids = top_k[1][0].tolist()\n",
    "    similarities = top_k[0][0].tolist()\n",
    "\n",
    "    results = pdf_to_index.loc[ids]\n",
    "    results['similarities'] = similarities\n",
    "\n",
    "    return results\n",
    "\n",
    "# Realiza uma pesquisa de conteúdo com a consulta 'annoying'\n",
    "# e exibe os resultados com as similaridades\n",
    "display(search_content('annoying ads', pdf_to_index))"
   ]
  },
  {
   "cell_type": "code",
   "execution_count": 10,
   "id": "8310870b-ec4b-4554-8751-7cd3b813d08c",
   "metadata": {},
   "outputs": [
    {
     "name": "stdout",
     "output_type": "stream",
     "text": [
      "Script execution time: 00:00:06\n"
     ]
    }
   ],
   "source": [
    "# Encerra a contagem de tempo e calcula o tempo total de execução\n",
    "end_time = time.time()\n",
    "total_time = end_time - start_time\n",
    "total_time = time.strftime(\"%H:%M:%S\", time.gmtime(total_time))\n",
    "print(\"Script execution time:\", total_time)"
   ]
  }
 ],
 "metadata": {
  "kernelspec": {
   "display_name": "cuda",
   "language": "python",
   "name": "cuda"
  },
  "language_info": {
   "codemirror_mode": {
    "name": "ipython",
    "version": 3
   },
   "file_extension": ".py",
   "mimetype": "text/x-python",
   "name": "python",
   "nbconvert_exporter": "python",
   "pygments_lexer": "ipython3",
   "version": "3.10.13"
  }
 },
 "nbformat": 4,
 "nbformat_minor": 5
}
